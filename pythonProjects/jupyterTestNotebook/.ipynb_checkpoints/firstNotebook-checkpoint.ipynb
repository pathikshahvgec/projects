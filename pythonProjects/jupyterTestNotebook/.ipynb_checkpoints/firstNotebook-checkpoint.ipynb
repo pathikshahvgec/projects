{
 "cells": [
  {
   "cell_type": "code",
   "execution_count": 13,
   "id": "2935e8ec-8777-4ef2-8dd1-b330408804b7",
   "metadata": {},
   "outputs": [
    {
     "name": "stdout",
     "output_type": "stream",
     "text": [
      "123\n",
      "Hello\n"
     ]
    }
   ],
   "source": [
    "print(123)\n",
    "print(\"Hello\")"
   ]
  },
  {
   "cell_type": "code",
   "execution_count": 11,
   "id": "c2f1e333-2d4d-4b67-a3af-34d348f582a5",
   "metadata": {},
   "outputs": [
    {
     "data": {
      "text/plain": [
       "345"
      ]
     },
     "execution_count": 11,
     "metadata": {},
     "output_type": "execute_result"
    }
   ],
   "source": [
    "345"
   ]
  },
  {
   "cell_type": "code",
   "execution_count": null,
   "id": "4f6fd0b4-dac3-4d30-b82a-27758b814df9",
   "metadata": {},
   "outputs": [],
   "source": []
  }
 ],
 "metadata": {
  "kernelspec": {
   "display_name": "Python [conda env:base] *",
   "language": "python",
   "name": "conda-base-py"
  },
  "language_info": {
   "codemirror_mode": {
    "name": "ipython",
    "version": 3
   },
   "file_extension": ".py",
   "mimetype": "text/x-python",
   "name": "python",
   "nbconvert_exporter": "python",
   "pygments_lexer": "ipython3",
   "version": "3.12.7"
  }
 },
 "nbformat": 4,
 "nbformat_minor": 5
}
