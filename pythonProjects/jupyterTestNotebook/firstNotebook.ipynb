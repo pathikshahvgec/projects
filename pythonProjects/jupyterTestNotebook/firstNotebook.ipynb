{
 "cells": [
  {
   "cell_type": "markdown",
   "id": "a1f55860-c597-49f9-8e4f-2e6de36b1b00",
   "metadata": {},
   "source": [
    "print(123)\n",
    "print(\"Hello\")"
   ]
  },
  {
   "cell_type": "code",
   "execution_count": 11,
   "id": "c2f1e333-2d4d-4b67-a3af-34d348f582a5",
   "metadata": {},
   "outputs": [
    {
     "data": {
      "text/plain": [
       "345"
      ]
     },
     "execution_count": 11,
     "metadata": {},
     "output_type": "execute_result"
    }
   ],
   "source": [
    "345"
   ]
  },
  {
   "cell_type": "markdown",
   "id": "33bc7c39-75b8-4bc3-84be-ccb7b2b59343",
   "metadata": {},
   "source": [
    "#hello\n",
    "##hello"
   ]
  },
  {
   "cell_type": "markdown",
   "id": "e65f0c26-51cd-4bd2-9042-17970ebd86e8",
   "metadata": {},
   "source": []
  }
 ],
 "metadata": {
  "kernelspec": {
   "display_name": "Python [conda env:base] *",
   "language": "python",
   "name": "conda-base-py"
  },
  "language_info": {
   "codemirror_mode": {
    "name": "ipython",
    "version": 3
   },
   "file_extension": ".py",
   "mimetype": "text/x-python",
   "name": "python",
   "nbconvert_exporter": "python",
   "pygments_lexer": "ipython3",
   "version": "3.12.7"
  }
 },
 "nbformat": 4,
 "nbformat_minor": 5
}
